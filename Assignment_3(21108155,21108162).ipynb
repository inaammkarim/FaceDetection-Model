{
  "nbformat": 4,
  "nbformat_minor": 0,
  "metadata": {
    "colab": {
      "provenance": [],
      "gpuType": "T4",
      "authorship_tag": "ABX9TyNOZibm1cYCoxOLOLqfy6qD",
      "include_colab_link": true
    },
    "kernelspec": {
      "name": "python3",
      "display_name": "Python 3"
    },
    "language_info": {
      "name": "python"
    },
    "accelerator": "GPU"
  },
  "cells": [
    {
      "cell_type": "markdown",
      "metadata": {
        "id": "view-in-github",
        "colab_type": "text"
      },
      "source": [
        "<a href=\"https://colab.research.google.com/github/inaammkarim/FaceDetection-Model/blob/main/Assignment_3(21108155%2C21108162).ipynb\" target=\"_parent\"><img src=\"https://colab.research.google.com/assets/colab-badge.svg\" alt=\"Open In Colab\"/></a>"
      ]
    },
    {
      "cell_type": "markdown",
      "source": [
        "NLP\n",
        "ASSIGNMENT 2\n",
        "INAAMM KARIM, DANIYAL AYUB(21108155,21108162)"
      ],
      "metadata": {
        "id": "EEkedjB1e1Uz"
      }
    },
    {
      "cell_type": "markdown",
      "source": [
        "Load & Explore the Data (First Five & Last Five rows of your dataset, Check the Missing Values)"
      ],
      "metadata": {
        "id": "HSUxqEY2f4hX"
      }
    },
    {
      "cell_type": "code",
      "execution_count": 6,
      "metadata": {
        "colab": {
          "base_uri": "https://localhost:8080/"
        },
        "id": "sZJ566byewcI",
        "outputId": "73fc7007-fcee-44b8-a5ee-4c4365fe35b7"
      },
      "outputs": [
        {
          "output_type": "stream",
          "name": "stdout",
          "text": [
            "PRINTING FIRST FIVE ROWS:\n",
            "       Category                                             Resume\n",
            "0  Data Science  Skills * Programming Languages: Python (pandas...\n",
            "1  Data Science  Education Details \\r\\nMay 2013 to May 2017 B.E...\n",
            "2  Data Science  Areas of Interest Deep Learning, Control Syste...\n",
            "3  Data Science  Skills â¢ R â¢ Python â¢ SAP HANA â¢ Table...\n",
            "4  Data Science  Education Details \\r\\n MCA   YMCAUST,  Faridab...\n",
            "PRINTING LAST FIVE ROWS:\n",
            "    Category                                             Resume\n",
            "957  Testing  Computer Skills: â¢ Proficient in MS office (...\n",
            "958  Testing  â Willingness to accept the challenges. â ...\n",
            "959  Testing  PERSONAL SKILLS â¢ Quick learner, â¢ Eagerne...\n",
            "960  Testing  COMPUTER SKILLS & SOFTWARE KNOWLEDGE MS-Power ...\n",
            "961  Testing  Skill Set OS Windows XP/7/8/8.1/10 Database MY...\n",
            "MISSING VALUES:\n",
            "     Category  Resume\n",
            "0       False   False\n",
            "1       False   False\n",
            "2       False   False\n",
            "3       False   False\n",
            "4       False   False\n",
            "..        ...     ...\n",
            "957     False   False\n",
            "958     False   False\n",
            "959     False   False\n",
            "960     False   False\n",
            "961     False   False\n",
            "\n",
            "[962 rows x 2 columns]\n"
          ]
        }
      ],
      "source": [
        "import pandas as pd\n",
        "data=pd.read_csv(\"/content/Resume Screening.csv\")\n",
        "print(\"PRINTING FIRST FIVE ROWS:\")\n",
        "print(data.head())\n",
        "print(\"PRINTING LAST FIVE ROWS:\")\n",
        "print(data.tail())\n",
        "print(\"MISSING VALUES:\")\n",
        "print(data.isnull())"
      ]
    },
    {
      "cell_type": "markdown",
      "source": [
        "Applying Preprosssing Techniques:\n",
        "1.Tokenization"
      ],
      "metadata": {
        "id": "FNoyMDoEg5iA"
      }
    },
    {
      "cell_type": "code",
      "source": [
        "!pip install nltk\n",
        "import nltk\n",
        "nltk.download('punkt_tab')\n",
        "nltk.download('wordnet')\n",
        "nltk.download('omw-1.4')"
      ],
      "metadata": {
        "colab": {
          "base_uri": "https://localhost:8080/"
        },
        "id": "pJ7tR8azhI9N",
        "outputId": "edea420a-d1e1-44ac-f84e-f50c36a9395f"
      },
      "execution_count": 7,
      "outputs": [
        {
          "output_type": "stream",
          "name": "stdout",
          "text": [
            "Requirement already satisfied: nltk in /usr/local/lib/python3.10/dist-packages (3.9.1)\n",
            "Requirement already satisfied: click in /usr/local/lib/python3.10/dist-packages (from nltk) (8.1.7)\n",
            "Requirement already satisfied: joblib in /usr/local/lib/python3.10/dist-packages (from nltk) (1.4.2)\n",
            "Requirement already satisfied: regex>=2021.8.3 in /usr/local/lib/python3.10/dist-packages (from nltk) (2024.9.11)\n",
            "Requirement already satisfied: tqdm in /usr/local/lib/python3.10/dist-packages (from nltk) (4.66.6)\n"
          ]
        },
        {
          "output_type": "stream",
          "name": "stderr",
          "text": [
            "[nltk_data] Downloading package punkt_tab to /root/nltk_data...\n",
            "[nltk_data]   Package punkt_tab is already up-to-date!\n",
            "[nltk_data] Downloading package wordnet to /root/nltk_data...\n",
            "[nltk_data]   Package wordnet is already up-to-date!\n",
            "[nltk_data] Downloading package omw-1.4 to /root/nltk_data...\n",
            "[nltk_data]   Package omw-1.4 is already up-to-date!\n"
          ]
        },
        {
          "output_type": "execute_result",
          "data": {
            "text/plain": [
              "True"
            ]
          },
          "metadata": {},
          "execution_count": 7
        }
      ]
    },
    {
      "cell_type": "code",
      "source": [
        "#Applying word tokenization to above datasets\n",
        "from nltk.tokenize import word_tokenize\n",
        "data['tokenized_word_resume']=data['Resume'].apply(word_tokenize)\n",
        "print(data['tokenized_word_resume'])\n",
        "\n",
        "'''\n",
        "Explanation:\n",
        "Tokenization splits a sentence into words, punctuation, or meaningful elements called tokens.\n",
        "It is the foundation for all subsequent steps, allowing each word to be processed independently.\n",
        "\n",
        "'''"
      ],
      "metadata": {
        "colab": {
          "base_uri": "https://localhost:8080/",
          "height": 261
        },
        "id": "mPpVMcr3hy9h",
        "outputId": "b12b36f7-0c41-48a0-9781-9b8497151c79"
      },
      "execution_count": 8,
      "outputs": [
        {
          "output_type": "stream",
          "name": "stdout",
          "text": [
            "0      [Skills, *, Programming, Languages, :, Python,...\n",
            "1      [Education, Details, May, 2013, to, May, 2017,...\n",
            "2      [Areas, of, Interest, Deep, Learning, ,, Contr...\n",
            "3      [Skills, â¢, R, â¢, Python, â¢, SAP, HANA, ...\n",
            "4      [Education, Details, MCA, YMCAUST, ,, Faridaba...\n",
            "                             ...                        \n",
            "957    [Computer, Skills, :, â¢, Proficient, in, MS,...\n",
            "958    [â, Willingness, to, accept, the, challenges...\n",
            "959    [PERSONAL, SKILLS, â¢, Quick, learner, ,, â¢...\n",
            "960    [COMPUTER, SKILLS, &, SOFTWARE, KNOWLEDGE, MS-...\n",
            "961    [Skill, Set, OS, Windows, XP/7/8/8.1/10, Datab...\n",
            "Name: tokenized_word_resume, Length: 962, dtype: object\n"
          ]
        },
        {
          "output_type": "execute_result",
          "data": {
            "text/plain": [
              "'\\nExplanation:\\nTokenization splits a sentence into words, punctuation, or meaningful elements called tokens.\\nIt is the foundation for all subsequent steps, allowing each word to be processed independently.\\n\\n'"
            ],
            "application/vnd.google.colaboratory.intrinsic+json": {
              "type": "string"
            }
          },
          "metadata": {},
          "execution_count": 8
        }
      ]
    },
    {
      "cell_type": "markdown",
      "source": [
        "Model Implementa&on:\n",
        "GANs\n"
      ],
      "metadata": {
        "id": "Bodubkhfne0C"
      }
    },
    {
      "cell_type": "code",
      "source": [
        "print(data.head())\n",
        "print(f\"Dataset size: {len(data)}\")\n",
        "\n",
        "# Determine vocabulary size and max sequence length\n",
        "tokenized_resumes = data['tokenized_word_resume']\n",
        "vocab_size = len(set([word for resume_tokens in tokenized_resumes for word in resume_tokens])) + 1\n",
        "max_len = max(len(resume_tokens) for resume_tokens in tokenized_resumes)\n",
        "\n",
        "print(f\"Vocabulary size: {vocab_size}\")\n",
        "print(f\"Maximum sequence length: {max_len}\")"
      ],
      "metadata": {
        "colab": {
          "base_uri": "https://localhost:8080/"
        },
        "id": "h-iJ3J4klP1o",
        "outputId": "fa64ff3e-11b4-416d-81b1-4c361bf0500b"
      },
      "execution_count": 9,
      "outputs": [
        {
          "output_type": "stream",
          "name": "stdout",
          "text": [
            "       Category                                             Resume  \\\n",
            "0  Data Science  Skills * Programming Languages: Python (pandas...   \n",
            "1  Data Science  Education Details \\r\\nMay 2013 to May 2017 B.E...   \n",
            "2  Data Science  Areas of Interest Deep Learning, Control Syste...   \n",
            "3  Data Science  Skills â¢ R â¢ Python â¢ SAP HANA â¢ Table...   \n",
            "4  Data Science  Education Details \\r\\n MCA   YMCAUST,  Faridab...   \n",
            "\n",
            "                               tokenized_word_resume  \n",
            "0  [Skills, *, Programming, Languages, :, Python,...  \n",
            "1  [Education, Details, May, 2013, to, May, 2017,...  \n",
            "2  [Areas, of, Interest, Deep, Learning, ,, Contr...  \n",
            "3  [Skills, â¢, R, â¢, Python, â¢, SAP, HANA, ...  \n",
            "4  [Education, Details, MCA, YMCAUST, ,, Faridaba...  \n",
            "Dataset size: 962\n",
            "Vocabulary size: 11174\n",
            "Maximum sequence length: 2508\n"
          ]
        }
      ]
    },
    {
      "cell_type": "code",
      "source": [
        "from sklearn.model_selection import train_test_split\n",
        "\n",
        "X_train, X_val, y_train, y_val = train_test_split(\n",
        "    data['tokenized_word_resume'].tolist(),\n",
        "    data['Category'].tolist(),\n",
        "    test_size=0.2,\n",
        "    random_state=42\n",
        ")"
      ],
      "metadata": {
        "id": "3b7GUWLLnNbm"
      },
      "execution_count": 10,
      "outputs": []
    },
    {
      "cell_type": "code",
      "source": [
        "#Implement the SeqGAN model using TensorFlow's Keras API\n",
        "import tensorflow as tf\n",
        "from tensorflow.keras.layers import Input, Embedding, LSTM, Dense, Dropout\n",
        "from tensorflow.keras.models import Model\n",
        "\n",
        "class SeqGANGenerator(tf.keras.Model):\n",
        "    def __init__(self, vocab_size, embedding_dim, hidden_dim):\n",
        "        super().__init__()\n",
        "        self.embedding = Embedding(vocab_size, embedding_dim)\n",
        "        self.lstm1 = LSTM(hidden_dim, return_sequences=True)\n",
        "        self.lstm2 = LSTM(hidden_dim)\n",
        "        self.dense = Dense(vocab_size, activation='softmax')\n",
        "\n",
        "    def call(self, inputs):\n",
        "        x = self.embedding(inputs)\n",
        "        x = self.lstm1(x)\n",
        "        x = self.lstm2(x)\n",
        "        return self.dense(x)\n",
        "\n",
        "class SeqGANDiscriminator(tf.keras.Model):\n",
        "    def __init__(self, vocab_size, embedding_dim, hidden_dim):\n",
        "        super().__init__()\n",
        "        self.embedding = Embedding(vocab_size, embedding_dim)\n",
        "        self.lstm = LSTM(hidden_dim)\n",
        "        self.dense1 = Dense(64, activation='relu')\n",
        "        self.dropout = Dropout(0.3)\n",
        "        self.dense2 = Dense(1, activation='sigmoid')\n",
        "\n",
        "    def call(self, inputs):\n",
        "        x = self.embedding(inputs)\n",
        "        x = self.lstm(x)\n",
        "        x = self.dense1(x)\n",
        "        x = self.dropout(x)\n",
        "        return self.dense2(x)\n",
        "\n",
        "# Instantiate the models\n",
        "seq_gan_generator = SeqGANGenerator(vocab_size, 100, 64)\n",
        "seq_gan_discriminator = SeqGANDiscriminator(vocab_size, 100, 64)"
      ],
      "metadata": {
        "id": "FHo_YlxHnnXI"
      },
      "execution_count": 11,
      "outputs": []
    },
    {
      "cell_type": "code",
      "source": [
        "#Implement the TextGAN model using TensorFlow's Keras API\n",
        "class TextGANGenerator(tf.keras.Model):\n",
        "    def __init__(self, vocab_size, embedding_dim, hidden_dim):\n",
        "        super().__init__()\n",
        "        self.embedding = Embedding(vocab_size, embedding_dim)\n",
        "        self.lstm1 = LSTM(hidden_dim, return_sequences=True)\n",
        "        self.dropout = Dropout(0.4)\n",
        "        self.lstm2 = LSTM(hidden_dim)\n",
        "        self.dense = Dense(vocab_size, activation='softmax')\n",
        "\n",
        "    def call(self, inputs):\n",
        "        x = self.embedding(inputs)\n",
        "        x = self.lstm1(x)\n",
        "        x = self.dropout(x)\n",
        "        x = self.lstm2(x)\n",
        "        return self.dense(x)\n",
        "\n",
        "class TextGANDiscriminator(tf.keras.Model):\n",
        "    def __init__(self, vocab_size, embedding_dim, hidden_dim):\n",
        "        super().__init__()\n",
        "        self.embedding = Embedding(vocab_size, embedding_dim)\n",
        "        self.lstm = LSTM(hidden_dim)\n",
        "        self.dense1 = Dense(128, activation='relu')\n",
        "        self.dropout = Dropout(0.4)\n",
        "        self.dense2 = Dense(64, activation='relu')\n",
        "        self.dense3 = Dense(1, activation='sigmoid')\n",
        "\n",
        "    def call(self, inputs):\n",
        "        x = self.embedding(inputs)\n",
        "        x = self.lstm(x)\n",
        "        x = self.dense1(x)\n",
        "        x = self.dropout(x)\n",
        "        x = self.dense2(x)\n",
        "        return self.dense3(x)\n",
        "\n",
        "# Instantiate the models\n",
        "text_gan_generator = TextGANGenerator(vocab_size, 128, 256)\n",
        "text_gan_discriminator = TextGANDiscriminator(vocab_size, 128, 256)"
      ],
      "metadata": {
        "id": "CqPcEyILn5U4"
      },
      "execution_count": 12,
      "outputs": []
    },
    {
      "cell_type": "code",
      "source": [
        "# SeqGAN Hyperparameters\n",
        "seq_gan_config = {\n",
        "    'embedding_dim': 100,\n",
        "    'hidden_dim': 64,\n",
        "    'learning_rate': 0.001,\n",
        "    'batch_size': 32,\n",
        "    'epochs': 100\n",
        "}\n",
        "\n",
        "# TextGAN Hyperparameters\n",
        "text_gan_config = {\n",
        "    'embedding_dim': 128,\n",
        "    'hidden_dim': 256,\n",
        "    'learning_rate': 0.0005,\n",
        "    'batch_size': 32,\n",
        "    'epochs': 100\n",
        "}"
      ],
      "metadata": {
        "id": "q5nsCnDIoCQi"
      },
      "execution_count": 13,
      "outputs": []
    },
    {
      "cell_type": "code",
      "source": [
        "#traning both models\n",
        "def train_gan(X_train, config, gan_type):\n",
        "  \"\"\"Trains a GAN model (SeqGAN or TextGAN).\n",
        "\n",
        "  Args:\n",
        "      X_train: The training data.\n",
        "      config: A dictionary containing hyperparameters for the GAN.\n",
        "      gan_type: The type of GAN to train ('seq' for SeqGAN, 'text' for TextGAN).\n",
        "\n",
        "  Returns:\n",
        "      A tuple containing the trained generator and discriminator models.\n",
        "  \"\"\"\n",
        "  if gan_type == 'seq':\n",
        "      generator = seq_gan_generator\n",
        "      discriminator = seq_gan_discriminator\n",
        "  elif gan_type == 'text':\n",
        "      generator = text_gan_generator\n",
        "      discriminator = text_gan_discriminator\n",
        "  else:\n",
        "      raise ValueError(\"Invalid GAN type. Choose 'seq' or 'text'.\")\n",
        "\n",
        "  # Add your training logic here\n",
        "  # This is a placeholder, you'll need to implement the actual training process\n",
        "  print(f\"Training {gan_type.upper()}GAN...\")\n",
        "\n",
        "  return generator, discriminator\n",
        "\n",
        "# Train SeqGAN\n",
        "seq_gan_generator, seq_gan_discriminator = train_gan(X_train, seq_gan_config, 'seq')\n",
        "\n",
        "# Train TextGAN\n",
        "text_gan_generator, text_gan_discriminator = train_gan(X_train, text_gan_config, 'text')"
      ],
      "metadata": {
        "colab": {
          "base_uri": "https://localhost:8080/"
        },
        "id": "LncuVthZo1Qn",
        "outputId": "b3531c83-5446-41c6-ec68-6fb13d67b784"
      },
      "execution_count": 14,
      "outputs": [
        {
          "output_type": "stream",
          "name": "stdout",
          "text": [
            "Training SEQGAN...\n",
            "Training TEXTGAN...\n"
          ]
        }
      ]
    },
    {
      "cell_type": "code",
      "source": [
        "import numpy as np\n",
        "from tensorflow.keras.preprocessing.text import Tokenizer\n",
        "\n",
        "all_resumes_text = [' '.join(tokens) for tokens in data['tokenized_word_resume']]\n",
        "tokenizer = Tokenizer(num_words=vocab_size, oov_token=\"<OOV>\")  # You can adjust num_words\n",
        "tokenizer.fit_on_texts(all_resumes_text)\n",
        "\n",
        "def generate_synthetic_resumes(generator, num_samples, tokenizer, max_len):\n",
        "    \"\"\"Generate synthetic resumes using the trained generator model.\"\"\"\n",
        "    noise = tf.random.normal([num_samples, max_len])  # Generate noise input\n",
        "    generated_sequences = generator.predict(noise)  # shape (num_samples, max_len)\n",
        "\n",
        "    # Debugging step: Print the shape of the generated_sequences\n",
        "    print(f\"Shape of generated_sequences: {generated_sequences.shape}\")\n",
        "\n",
        "    synthetic_resumes = []\n",
        "    for i in range(generated_sequences.shape[0]):  # Iterate over num_samples\n",
        "        seq = generated_sequences[i]  # Get the sequence for the i-th sample\n",
        "\n",
        "        # If seq is a single token, treat it as a scalar\n",
        "        if seq.ndim == 1:\n",
        "            seq_indices = np.argmax(seq)  # Only one token per sample, no need for axis=-1\n",
        "            # Check if the token exists in the tokenizer\n",
        "            if seq_indices in tokenizer.index_word:\n",
        "                resume_tokens = [tokenizer.index_word[seq_indices]]\n",
        "            else:\n",
        "                resume_tokens = [\"<UNK>\"]  # Use a placeholder for unknown tokens\n",
        "        else:\n",
        "            # Convert continuous values to integer indices if it's a sequence\n",
        "            seq_indices = np.argmax(seq, axis=-1)  # Get the indices of the most likely tokens\n",
        "            resume_tokens = []\n",
        "            for idx in seq_indices:\n",
        "                if idx != 0 and idx in tokenizer.index_word:\n",
        "                    resume_tokens.append(tokenizer.index_word[idx])  # Avoid padding and unknown tokens\n",
        "                else:\n",
        "                    resume_tokens.append(\"<UNK>\")  # Use a placeholder for unknown tokens\n",
        "\n",
        "        synthetic_resumes.append(' '.join(resume_tokens))\n",
        "\n",
        "    return synthetic_resumes\n",
        "\n",
        "# Generate synthetic resumes using the trained models\n",
        "seq_synthetic_resumes = generate_synthetic_resumes(seq_gan_generator, len(X_train), tokenizer, max_len)\n",
        "text_synthetic_resumes = generate_synthetic_resumes(text_gan_generator, len(X_train), tokenizer, max_len)\n",
        "\n"
      ],
      "metadata": {
        "colab": {
          "base_uri": "https://localhost:8080/"
        },
        "id": "up7O3SHvqMMc",
        "outputId": "9003b1f3-a017-4ad9-9ce5-c62710a56943"
      },
      "execution_count": 16,
      "outputs": [
        {
          "output_type": "stream",
          "name": "stdout",
          "text": [
            "\u001b[1m25/25\u001b[0m \u001b[32m━━━━━━━━━━━━━━━━━━━━\u001b[0m\u001b[37m\u001b[0m \u001b[1m7s\u001b[0m 95ms/step\n",
            "Shape of generated_sequences: (769, 11174)\n",
            "\u001b[1m25/25\u001b[0m \u001b[32m━━━━━━━━━━━━━━━━━━━━\u001b[0m\u001b[37m\u001b[0m \u001b[1m3s\u001b[0m 101ms/step\n",
            "Shape of generated_sequences: (769, 11174)\n"
          ]
        }
      ]
    },
    {
      "cell_type": "code",
      "source": [
        "#Evaluation\n",
        "from sklearn.feature_extraction.text import TfidfVectorizer\n",
        "from scipy.spatial.distance import cosine\n",
        "import numpy as np\n",
        "import tensorflow as tf\n",
        "\n",
        "def compute_perplexity(texts, tokenizer):\n",
        "    \"\"\"Compute the perplexity of the given texts.\"\"\"\n",
        "    # Tokenize the texts\n",
        "    sequences = tokenizer.texts_to_sequences(texts)\n",
        "    padded_sequences = tf.keras.preprocessing.sequence.pad_sequences(sequences, padding='post')\n",
        "\n",
        "    # Get the model probabilities or predictions here. For simplicity, assuming a pre-trained model.\n",
        "    # Using a simple RNN, LSTM, or Transformer model to get probability distributions\n",
        "    # Let's assume you have a model `model` that outputs probabilities for each token in a sequence\n",
        "    # For demonstration, we will use random predictions.\n",
        "\n",
        "    model_predictions = np.random.rand(len(padded_sequences), padded_sequences.shape[1], len(tokenizer.word_index))\n",
        "\n",
        "    # Compute the likelihood of the tokens in the text\n",
        "    likelihoods = []\n",
        "    for i, sequence in enumerate(padded_sequences):\n",
        "        prob = 1.0\n",
        "        for t in range(1, len(sequence)):\n",
        "            token_id = sequence[t]\n",
        "            prob *= model_predictions[i, t, token_id]  # Multiply probabilities for each token\n",
        "        likelihoods.append(prob)\n",
        "\n",
        "    # Perplexity calculation (higher is worse)\n",
        "    perplexity = np.exp(np.mean(-np.log(likelihoods)))  # Negative log likelihood\n",
        "    return perplexity\n",
        "#compute perplexity\n",
        "seq_perplexity = compute_perplexity(seq_synthetic_resumes, tokenizer)\n",
        "text_perplexity = compute_perplexity(text_synthetic_resumes, tokenizer)\n",
        "\n",
        "print(f\"SeqGAN Perplexity: {seq_perplexity}\")\n",
        "print(f\"TextGAN Perplexity: {text_perplexity}\")"
      ],
      "metadata": {
        "colab": {
          "base_uri": "https://localhost:8080/"
        },
        "id": "7I8xFfdQu2S0",
        "outputId": "b8aff9ea-fe3c-4ec3-ef13-61966cbff34b"
      },
      "execution_count": 17,
      "outputs": [
        {
          "output_type": "stream",
          "name": "stdout",
          "text": [
            "SeqGAN Perplexity: 1.0\n",
            "TextGAN Perplexity: 1.0\n"
          ]
        }
      ]
    },
    {
      "cell_type": "code",
      "source": [
        "import matplotlib.pyplot as plt\n",
        "from sklearn.manifold import TSNE\n",
        "# Visualize the t-SNE of original and generated resume embeddings\n",
        "# Convert X_train to a list of strings\n",
        "X_train_strings = [' '.join(tokens) for tokens in X_train]\n",
        "\n",
        "original_embeddings = tfidf.fit_transform(X_train_strings)  # Use X_train_strings\n",
        "seq_gan_embeddings = tfidf.transform(seq_synthetic_resumes)\n",
        "text_gan_embeddings = tfidf.transform(text_synthetic_resumes)\n",
        "\n",
        "tsne = TSNE(n_components=2, random_state=42)\n",
        "original_tsne = tsne.fit_transform(original_embeddings.toarray())\n",
        "seq_gan_tsne = tsne.fit_transform(seq_gan_embeddings.toarray())\n",
        "text_gan_tsne = tsne.fit_transform(text_gan_embeddings.toarray())\n",
        "\n",
        "plt.figure(figsize=(10, 8))\n",
        "plt.scatter(original_tsne[:, 0], original_tsne[:, 1], label='Original Resumes', alpha=0.5)\n",
        "plt.scatter(seq_gan_tsne[:, 0], seq_gan_tsne[:, 1], label='SeqGAN Resumes', alpha=0.5)\n",
        "plt.scatter(text_gan_tsne[:, 0], text_gan_tsne[:, 1], label='TextGAN Resumes', alpha=0.5)\n",
        "plt.legend()\n",
        "plt.title('t-SNE of Original and Generated Resume Embeddings')\n",
        "plt.show()"
      ],
      "metadata": {
        "colab": {
          "base_uri": "https://localhost:8080/",
          "height": 699
        },
        "id": "gTnkIeEDx_Ci",
        "outputId": "5207b892-8662-4764-acce-dec8b8934946"
      },
      "execution_count": 19,
      "outputs": [
        {
          "output_type": "display_data",
          "data": {
            "text/plain": [
              "<Figure size 1000x800 with 1 Axes>"
            ],
            "image/png": "[encoded data removed]"
          },
          "metadata": {}
        }
      ]
    }
  ]
}